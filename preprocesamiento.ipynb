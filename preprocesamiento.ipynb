{
 "cells": [
  {
   "cell_type": "code",
   "execution_count": 1,
   "metadata": {},
   "outputs": [],
   "source": [
    "import psycopg2\n",
    "import pandas as pd\n",
    "from datetime import datetime, time"
   ]
  },
  {
   "cell_type": "code",
   "execution_count": 2,
   "metadata": {},
   "outputs": [],
   "source": [
    "# Conexión a la base de datos\n",
    "conn = psycopg2.connect(\n",
    "    dbname=\"fligth-database\",\n",
    "    user=\"postgres\",\n",
    "    password=\"Jennifer2004*\",\n",
    "    host=\"localhost\",\n",
    "    port=\"5432\"\n",
    ")\n",
    "\n",
    "# Crear un cursor para ejecutar consultas\n",
    "cur = conn.cursor()"
   ]
  },
  {
   "cell_type": "code",
   "execution_count": 35,
   "metadata": {},
   "outputs": [
    {
     "name": "stdout",
     "output_type": "stream",
     "text": [
      "   flight_id     fl_date op_unique_carrier  op_carrier_airline_id op_carrier  \\\n",
      "0          1  2019-12-01                9E                  20363         9E   \n",
      "1          2  2019-12-01                9E                  20363         9E   \n",
      "2          3  2019-12-01                DL                  19790         DL   \n",
      "3          4  2019-12-01                DL                  19790         DL   \n",
      "4          5  2019-12-01                DL                  19790         DL   \n",
      "\n",
      "  tail_num op_carrier_fl_num  origin_airport_id  dest_airport_id crs_dep_time  \\\n",
      "0   N293PQ              3406              10599            12953     16:46:00   \n",
      "1   N293PQ              3406              12953            10599     14:27:00   \n",
      "2   N349NW              2391              10397            13422     19:41:00   \n",
      "3   N901DE              1129              10397            10599     21:11:00   \n",
      "4   N903DE              2242              10599            10397     07:40:00   \n",
      "\n",
      "   dep_time  dep_delay wheels_off wheels_on crs_arr_time  arr_time  arr_delay  \\\n",
      "0  18:13:00       87.0   18:28:00  21:36:00     20:19:00  21:40:00       81.0   \n",
      "1  14:27:00        0.0   16:05:00  17:33:00     16:10:00  17:39:00       89.0   \n",
      "2  20:52:00       71.0   21:09:00  21:02:00     19:55:00  21:08:00       73.0   \n",
      "3  21:08:00       -3.0   21:22:00  20:50:00     21:05:00  20:54:00      -11.0   \n",
      "4  07:37:00       -3.0   07:52:00  09:23:00     09:48:00  09:30:00      -18.0   \n",
      "\n",
      "   cancelled cancellation_code  diverted  air_time  distance  flights  \n",
      "0      False              None     False     128.0     866.0      1.0  \n",
      "1      False              None     False     148.0     866.0      1.0  \n",
      "2      False              None     False      53.0     302.0      1.0  \n",
      "3      False              None     False      28.0     134.0      1.0  \n",
      "4      False              None     False      31.0     134.0      1.0  \n"
     ]
    }
   ],
   "source": [
    "cur.execute(\"SELECT * FROM flights; \")\n",
    "resultados = cur.fetchall()\n",
    "columnas = [desc[0] for desc in cur.description]\n",
    "df = pd.DataFrame(resultados, columns=columnas)\n",
    "pd.options.display.max_columns = None\n",
    "print(df.head())"
   ]
  },
  {
   "cell_type": "code",
   "execution_count": null,
   "metadata": {},
   "outputs": [
    {
     "name": "stdout",
     "output_type": "stream",
     "text": [
      "           flight_id  op_carrier_airline_id  origin_airport_id  \\\n",
      "count  338920.000000          338920.000000      338920.000000   \n",
      "mean   169460.500000           20158.708138       11515.058326   \n",
      "std     97837.920954             352.623230        1113.245546   \n",
      "min         1.000000           19393.000000       10397.000000   \n",
      "25%     84730.750000           19790.000000       10599.000000   \n",
      "50%    169460.500000           20363.000000       11278.000000   \n",
      "75%    254190.250000           20397.000000       12217.000000   \n",
      "max    338920.000000           20452.000000       15919.000000   \n",
      "\n",
      "       dest_airport_id      dep_delay      arr_delay       air_time  \\\n",
      "count    338920.000000  331712.000000  330832.000000  330832.000000   \n",
      "mean      11515.495312       9.372118       4.745678      72.924276   \n",
      "std        1114.244841      49.637737      51.279230      33.408108   \n",
      "min       10397.000000     -52.000000     -77.000000      14.000000   \n",
      "25%       10599.000000      -6.000000     -15.000000      44.000000   \n",
      "50%       11278.000000      -3.000000      -7.000000      75.000000   \n",
      "75%       12217.000000       4.000000       6.000000      93.000000   \n",
      "max       15919.000000    2573.000000    2577.000000     276.000000   \n",
      "\n",
      "            distance   flights  \n",
      "count  338920.000000  338920.0  \n",
      "mean      472.870335       1.0  \n",
      "std       262.763489       0.0  \n",
      "min       134.000000       1.0  \n",
      "25%       302.000000       1.0  \n",
      "50%       539.000000       1.0  \n",
      "75%       603.000000       1.0  \n",
      "max      1815.000000       1.0  \n"
     ]
    }
   ],
   "source": [
    "print(df.describe())"
   ]
  },
  {
   "cell_type": "code",
   "execution_count": 38,
   "metadata": {},
   "outputs": [
    {
     "name": "stdout",
     "output_type": "stream",
     "text": [
      "<class 'pandas.core.frame.DataFrame'>\n",
      "RangeIndex: 338920 entries, 0 to 338919\n",
      "Data columns (total 23 columns):\n",
      " #   Column                 Non-Null Count   Dtype  \n",
      "---  ------                 --------------   -----  \n",
      " 0   flight_id              338920 non-null  int64  \n",
      " 1   fl_date                338920 non-null  object \n",
      " 2   op_unique_carrier      338920 non-null  object \n",
      " 3   op_carrier_airline_id  338920 non-null  int64  \n",
      " 4   op_carrier             338920 non-null  object \n",
      " 5   tail_num               337122 non-null  object \n",
      " 6   op_carrier_fl_num      338920 non-null  object \n",
      " 7   origin_airport_id      338920 non-null  int64  \n",
      " 8   dest_airport_id        338920 non-null  int64  \n",
      " 9   crs_dep_time           338920 non-null  object \n",
      " 10  dep_time               331714 non-null  object \n",
      " 11  dep_delay              331712 non-null  float64\n",
      " 12  wheels_off             331586 non-null  object \n",
      " 13  wheels_on              331535 non-null  object \n",
      " 14  crs_arr_time           338920 non-null  object \n",
      " 15  arr_time               331535 non-null  object \n",
      " 16  arr_delay              330832 non-null  float64\n",
      " 17  cancelled              338920 non-null  bool   \n",
      " 18  cancellation_code      7353 non-null    object \n",
      " 19  diverted               338920 non-null  bool   \n",
      " 20  air_time               330832 non-null  float64\n",
      " 21  distance               338920 non-null  float64\n",
      " 22  flights                338920 non-null  float64\n",
      "dtypes: bool(2), float64(5), int64(4), object(12)\n",
      "memory usage: 54.9+ MB\n"
     ]
    }
   ],
   "source": [
    "df.info()"
   ]
  },
  {
   "cell_type": "code",
   "execution_count": 34,
   "metadata": {},
   "outputs": [
    {
     "name": "stdout",
     "output_type": "stream",
     "text": [
      "  tail_num op_unique_carrier manufacturer model year_built capacity\n",
      "0   N293PQ                9E         None  None       None     None\n",
      "1   N349NW                DL         None  None       None     None\n",
      "2   N901DE                DL         None  None       None     None\n",
      "3   N903DE                DL         None  None       None     None\n",
      "4   N905DE                DL         None  None       None     None\n"
     ]
    }
   ],
   "source": [
    "\n",
    "cur.execute(\"SELECT * FROM aircrafts ;\")\n",
    "resultados = cur.fetchall()\n",
    "columnas = [desc[0] for desc in cur.description]\n",
    "df = pd.DataFrame(resultados, columns=columnas)\n",
    "pd.options.display.max_columns = None\n",
    "print(df.head())\n"
   ]
  },
  {
   "cell_type": "code",
   "execution_count": 32,
   "metadata": {},
   "outputs": [
    {
     "name": "stdout",
     "output_type": "stream",
     "text": [
      "         airline_id\n",
      "count     13.000000\n",
      "mean   20190.384615\n",
      "std      337.193698\n",
      "min    19393.000000\n",
      "25%    19977.000000\n",
      "50%    20366.000000\n",
      "75%    20398.000000\n",
      "max    20452.000000\n",
      "<class 'pandas.core.frame.DataFrame'>\n",
      "RangeIndex: 13 entries, 0 to 12\n",
      "Data columns (total 3 columns):\n",
      " #   Column          Non-Null Count  Dtype \n",
      "---  ------          --------------  ----- \n",
      " 0   airline_id      13 non-null     int64 \n",
      " 1   unique_carrier  13 non-null     object\n",
      " 2   carrier_name    0 non-null      object\n",
      "dtypes: int64(1), object(2)\n",
      "memory usage: 444.0+ bytes\n"
     ]
    }
   ],
   "source": [
    "print(df.describe())\n",
    "\n",
    "df.info()"
   ]
  },
  {
   "cell_type": "code",
   "execution_count": 29,
   "metadata": {},
   "outputs": [
    {
     "name": "stdout",
     "output_type": "stream",
     "text": [
      "   airline_id unique_carrier carrier_name\n",
      "0       20363             9E         None\n",
      "1       19790             DL         None\n",
      "2       20366             EV         None\n",
      "3       20398             MQ         None\n",
      "4       20397             OH         None\n"
     ]
    }
   ],
   "source": [
    "cur.execute(\"SELECT * FROM airlines ;\")\n",
    "resultados = cur.fetchall()\n",
    "columnas = [desc[0] for desc in cur.description]\n",
    "df = pd.DataFrame(resultados, columns=columnas)\n",
    "pd.options.display.max_columns = None\n",
    "print(df.head())"
   ]
  },
  {
   "cell_type": "code",
   "execution_count": 30,
   "metadata": {},
   "outputs": [
    {
     "name": "stdout",
     "output_type": "stream",
     "text": [
      "         airline_id\n",
      "count     13.000000\n",
      "mean   20190.384615\n",
      "std      337.193698\n",
      "min    19393.000000\n",
      "25%    19977.000000\n",
      "50%    20366.000000\n",
      "75%    20398.000000\n",
      "max    20452.000000\n",
      "<class 'pandas.core.frame.DataFrame'>\n",
      "RangeIndex: 13 entries, 0 to 12\n",
      "Data columns (total 3 columns):\n",
      " #   Column          Non-Null Count  Dtype \n",
      "---  ------          --------------  ----- \n",
      " 0   airline_id      13 non-null     int64 \n",
      " 1   unique_carrier  13 non-null     object\n",
      " 2   carrier_name    0 non-null      object\n",
      "dtypes: int64(1), object(2)\n",
      "memory usage: 444.0+ bytes\n"
     ]
    }
   ],
   "source": [
    "print(df.describe())\n",
    "import pandas as pd\n",
    "\n",
    "# Suponiendo que df es tu DataFrame\n",
    "#df_limpio = df.dropna(subset=['airport_id'])\n",
    "df.info()"
   ]
  },
  {
   "cell_type": "code",
   "execution_count": null,
   "metadata": {},
   "outputs": [
    {
     "name": "stdout",
     "output_type": "stream",
     "text": [
      "    airport_id  airport_seq_id  city_market_id code  \\\n",
      "0        10599         1059904           30599  BHM   \n",
      "1        12953         1295304           31703  LGA   \n",
      "2        10397         1039707           30397  ATL   \n",
      "3        13422         1342202           30562  MOB   \n",
      "4        12217         1221702           30255  HSV   \n",
      "5        12266         1226603           31453  IAH   \n",
      "6        11298         1129806           30194  DFW   \n",
      "7        13930         1393007           30977  ORD   \n",
      "8        13277         1327702           33277  MGM   \n",
      "9        13303         1330303           32467  MIA   \n",
      "10       11278         1127805           30852  DCA   \n",
      "11       11057         1105703           31057  CLT   \n",
      "12       14100         1410005           34100  PHL   \n",
      "13       11292         1129202           30325  DEN   \n",
      "14       11308         1130802           31308  DHN   \n",
      "15       11433         1143302           31295  DTW   \n",
      "16       13232         1323202           30977  MDW   \n",
      "17       11697         1169706           32467  FLL   \n",
      "18       11259         1125904           30194  DAL   \n",
      "19       15304         1530402           33195  TPA   \n",
      "20       13204         1320402           31454  MCO   \n",
      "21       10821         1082106           30852  BWI   \n",
      "22       12191         1219102           31453  HOU   \n",
      "23       12889         1288903           32211  LAS   \n",
      "24       12264         1226402           30852  IAD   \n",
      "25       10562         1056202           30562  BFM   \n",
      "26       15919         1591905           31834  XNA   \n",
      "27       13487         1348702           31650  MSP   \n",
      "28       11049         1104903           31049  CLL   \n",
      "29       14107         1410702           30466  PHX   \n",
      "30       10693         1069302           30693  BNA   \n",
      "31       13851         1385103           33851  OKC   \n",
      "32       10781         1078105           30781  BTR   \n",
      "33       12339         1233904           32337  IND   \n",
      "34       13198         1319801           33198  MCI   \n",
      "35       10423         1042302           30423  AUS   \n",
      "36       10868         1086803           30868  CAE   \n",
      "37       13485         1348502           33485  MSN   \n",
      "38       13342         1334207           33342  MKE   \n",
      "39       12892         1289208           32575  LAX   \n",
      "\n",
      "                    city_name state_abr state_fips      state_name  wac  \n",
      "0              Birmingham, AL        AL         01         Alabama   51  \n",
      "1                New York, NY        NY         36        New York   22  \n",
      "2                 Atlanta, GA        GA         13         Georgia   34  \n",
      "3                  Mobile, AL        AL         01         Alabama   51  \n",
      "4              Huntsville, AL        AL         01         Alabama   51  \n",
      "5                 Houston, TX        TX         48           Texas   74  \n",
      "6       Dallas/Fort Worth, TX        TX         48           Texas   74  \n",
      "7                 Chicago, IL        IL         17        Illinois   41  \n",
      "8              Montgomery, AL        AL         01         Alabama   51  \n",
      "9                   Miami, FL        FL         12         Florida   33  \n",
      "10             Washington, DC        VA         51        Virginia   38  \n",
      "11              Charlotte, NC        NC         37  North Carolina   36  \n",
      "12           Philadelphia, PA        PA         42    Pennsylvania   23  \n",
      "13                 Denver, CO        CO         08        Colorado   82  \n",
      "14                 Dothan, AL        AL         01         Alabama   51  \n",
      "15                Detroit, MI        MI         26        Michigan   43  \n",
      "16                Chicago, IL        IL         17        Illinois   41  \n",
      "17        Fort Lauderdale, FL        FL         12         Florida   33  \n",
      "18                 Dallas, TX        TX         48           Texas   74  \n",
      "19                  Tampa, FL        FL         12         Florida   33  \n",
      "20                Orlando, FL        FL         12         Florida   33  \n",
      "21              Baltimore, MD        MD         24        Maryland   35  \n",
      "22                Houston, TX        TX         48           Texas   74  \n",
      "23              Las Vegas, NV        NV         32          Nevada   85  \n",
      "24             Washington, DC        VA         51        Virginia   38  \n",
      "25                 Mobile, AL        AL         01         Alabama   51  \n",
      "26           Fayetteville, AR        AR         05        Arkansas   71  \n",
      "27            Minneapolis, MN        MN         27       Minnesota   63  \n",
      "28  College Station/Bryan, TX        TX         48           Texas   74  \n",
      "29                Phoenix, AZ        AZ         04         Arizona   81  \n",
      "30              Nashville, TN        TN         47       Tennessee   54  \n",
      "31          Oklahoma City, OK        OK         40        Oklahoma   73  \n",
      "32            Baton Rouge, LA        LA         22       Louisiana   72  \n",
      "33           Indianapolis, IN        IN         18         Indiana   42  \n",
      "34            Kansas City, MO        MO         29        Missouri   64  \n",
      "35                 Austin, TX        TX         48           Texas   74  \n",
      "36               Columbia, SC        SC         45  South Carolina   37  \n",
      "37                Madison, WI        WI         55       Wisconsin   45  \n",
      "38              Milwaukee, WI        WI         55       Wisconsin   45  \n",
      "39            Los Angeles, CA        CA         06      California   91  \n"
     ]
    }
   ],
   "source": [
    "\n",
    "cur.execute(\"SELECT * FROM airports;\")\n",
    "resultados = cur.fetchall()\n",
    "columnas = [desc[0] for desc in cur.description]\n",
    "df = pd.DataFrame(resultados, columns=columnas)\n",
    "pd.options.display.max_columns = None\n",
    "print(df.head())"
   ]
  },
  {
   "cell_type": "code",
   "execution_count": 16,
   "metadata": {},
   "outputs": [
    {
     "name": "stdout",
     "output_type": "stream",
     "text": [
      "         airport_id  airport_seq_id  city_market_id        wac\n",
      "count     40.000000    4.000000e+01       40.000000  40.000000\n",
      "mean   12349.675000    1.234971e+06    31539.750000  53.450000\n",
      "std     1394.967942    1.394967e+05     1122.004679  18.837973\n",
      "min    10397.000000    1.039707e+06    30194.000000  22.000000\n",
      "25%    11208.500000    1.120854e+06    30669.500000  37.750000\n",
      "50%    12265.000000    1.226502e+06    31176.000000  51.000000\n",
      "75%    13312.750000    1.331279e+06    32369.500000  73.250000\n",
      "max    15919.000000    1.591905e+06    34100.000000  91.000000\n",
      "<class 'pandas.core.frame.DataFrame'>\n",
      "RangeIndex: 40 entries, 0 to 39\n",
      "Data columns (total 9 columns):\n",
      " #   Column          Non-Null Count  Dtype \n",
      "---  ------          --------------  ----- \n",
      " 0   airport_id      40 non-null     int64 \n",
      " 1   airport_seq_id  40 non-null     int64 \n",
      " 2   city_market_id  40 non-null     int64 \n",
      " 3   code            40 non-null     object\n",
      " 4   city_name       40 non-null     object\n",
      " 5   state_abr       40 non-null     object\n",
      " 6   state_fips      40 non-null     object\n",
      " 7   state_name      40 non-null     object\n",
      " 8   wac             40 non-null     int64 \n",
      "dtypes: int64(4), object(5)\n",
      "memory usage: 2.9+ KB\n"
     ]
    }
   ],
   "source": [
    "print(df.describe())\n",
    "import pandas as pd\n",
    "\n",
    "# Suponiendo que df es tu DataFrame\n",
    "#df_limpio = df.dropna(subset=['airport_id'])\n",
    "df.info()"
   ]
  },
  {
   "cell_type": "code",
   "execution_count": null,
   "metadata": {},
   "outputs": [],
   "source": []
  },
  {
   "cell_type": "code",
   "execution_count": null,
   "metadata": {},
   "outputs": [],
   "source": []
  },
  {
   "cell_type": "code",
   "execution_count": 26,
   "metadata": {},
   "outputs": [],
   "source": [
    "# Cerrar conexión\n",
    "cur.close()\n",
    "conn.close()"
   ]
  },
  {
   "cell_type": "code",
   "execution_count": null,
   "metadata": {},
   "outputs": [],
   "source": []
  }
 ],
 "metadata": {
  "kernelspec": {
   "display_name": "Documentos",
   "language": "python",
   "name": "python3"
  },
  "language_info": {
   "codemirror_mode": {
    "name": "ipython",
    "version": 3
   },
   "file_extension": ".py",
   "mimetype": "text/x-python",
   "name": "python",
   "nbconvert_exporter": "python",
   "pygments_lexer": "ipython3",
   "version": "3.12.3"
  }
 },
 "nbformat": 4,
 "nbformat_minor": 2
}
