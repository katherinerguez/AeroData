{
 "cells": [
  {
   "cell_type": "code",
   "execution_count": null,
   "id": "18fe6b8b",
   "metadata": {},
   "outputs": [
    {
     "name": "stdout",
     "output_type": "stream",
     "text": [
      "1\n"
     ]
    },
    {
     "ename": "OperationalError",
     "evalue": "server closed the connection unexpectedly\n\tThis probably means the server terminated abnormally\n\tbefore or while processing the request.\nserver closed the connection unexpectedly\n\tThis probably means the server terminated abnormally\n\tbefore or while processing the request.\n",
     "output_type": "error",
     "traceback": [
      "\u001b[0;31m---------------------------------------------------------------------------\u001b[0m",
      "\u001b[0;31mOperationalError\u001b[0m                          Traceback (most recent call last)",
      "\u001b[0;32m/tmp/ipykernel_11628/1118132302.py\u001b[0m in \u001b[0;36m<module>\u001b[0;34m\u001b[0m\n\u001b[1;32m     11\u001b[0m \u001b[0mcursor\u001b[0m \u001b[0;34m=\u001b[0m \u001b[0mconn\u001b[0m\u001b[0;34m.\u001b[0m\u001b[0mcursor\u001b[0m\u001b[0;34m(\u001b[0m\u001b[0;34m)\u001b[0m\u001b[0;34m\u001b[0m\u001b[0;34m\u001b[0m\u001b[0m\n\u001b[1;32m     12\u001b[0m \u001b[0mprint\u001b[0m\u001b[0;34m(\u001b[0m\u001b[0;36m1\u001b[0m\u001b[0;34m)\u001b[0m\u001b[0;34m\u001b[0m\u001b[0;34m\u001b[0m\u001b[0m\n\u001b[0;32m---> 13\u001b[0;31m \u001b[0mcursor\u001b[0m\u001b[0;34m.\u001b[0m\u001b[0mexecute\u001b[0m\u001b[0;34m(\u001b[0m\u001b[0;34m\"SELECT * FROM flights \"\u001b[0m\u001b[0;34m)\u001b[0m\u001b[0;34m\u001b[0m\u001b[0;34m\u001b[0m\u001b[0m\n\u001b[0m\u001b[1;32m     14\u001b[0m \u001b[0mprint\u001b[0m\u001b[0;34m(\u001b[0m\u001b[0;36m2\u001b[0m\u001b[0;34m)\u001b[0m\u001b[0;34m\u001b[0m\u001b[0;34m\u001b[0m\u001b[0m\n\u001b[1;32m     15\u001b[0m \u001b[0;31m# Obtener solo las primeras 5 filas\u001b[0m\u001b[0;34m\u001b[0m\u001b[0;34m\u001b[0m\u001b[0m\n",
      "\u001b[0;31mOperationalError\u001b[0m: server closed the connection unexpectedly\n\tThis probably means the server terminated abnormally\n\tbefore or while processing the request.\nserver closed the connection unexpectedly\n\tThis probably means the server terminated abnormally\n\tbefore or while processing the request.\n"
     ]
    }
   ],
   "source": [
    "import psycopg2\n",
    "\n",
    "conn = psycopg2.connect(\n",
    "    host=\"aws-0-us-east-1.pooler.supabase.com\",\n",
    "    port=\"6543\",\n",
    "    dbname=\"postgres\",\n",
    "    user=\"postgres.lxmcnjbmubtqmmctodja\",\n",
    "    password=\"Jennifer2004*\"\n",
    ")\n",
    "\n",
    "cursor = conn.cursor()\n",
    "print(1)\n",
    "cursor.execute(\"SELECT * FROM flights LIMIT 4\")\n",
    "print(2)\n",
    "# Obtener solo las primeras 5 filas\n",
    "rows = cursor.fetchmany(1)\n",
    "\n",
    "# Imprimir fila por fila\n",
    "for row in rows:\n",
    "    print(row)\n",
    "\n",
    "# Cerrar conexión si ya no la necesitas\n",
    "cursor.close()\n",
    "conn.close()"
   ]
  },
  {
   "cell_type": "code",
   "execution_count": 1,
   "id": "8eb96a83",
   "metadata": {},
   "outputs": [
    {
     "name": "stdout",
     "output_type": "stream",
     "text": [
      "Número total de filas en la tabla 'flights': 2,405,885\n",
      "\n",
      "Ejemplo de fila:\n",
      "(7621453, datetime.date(2015, 12, 11), 'DL', 19790, '2485', None, '10693', 1069302, 1039705, datetime.time(5, 26), None, 541.0, datetime.time(7, 22), datetime.time(7, 40), datetime.time(7, 35), None, 0.0, False, True, 1.0, None, 214.0)\n"
     ]
    }
   ],
   "source": [
    "import psycopg2\n",
    "\n",
    "# Conexión a la base de datos\n",
    "conn = psycopg2.connect(\n",
    "    host=\"aws-0-us-east-1.pooler.supabase.com\",\n",
    "    port=\"6543\",\n",
    "    dbname=\"postgres\",\n",
    "    user=\"postgres.lxmcnjbmubtqmmctodja\",\n",
    "    password=\"Jennifer2004*\"\n",
    ")\n",
    "\n",
    "cursor = conn.cursor()\n",
    "\n",
    "# Contar el número total de filas\n",
    "cursor.execute(\"SELECT COUNT(*) FROM flights\")\n",
    "row_count = cursor.fetchone()[0]\n",
    "print(f\"Número total de filas en la tabla 'flights': {row_count:,}\")\n",
    "\n",
    "# Opcional: mostrar la primera fila\n",
    "cursor.execute(\"SELECT * FROM flights LIMIT 1\")\n",
    "row = cursor.fetchone()\n",
    "print(\"\\nEjemplo de fila:\")\n",
    "print(row)\n",
    "\n",
    "# Cerrar conexión\n",
    "cursor.close()\n",
    "conn.close()"
   ]
  },
  {
   "cell_type": "code",
   "execution_count": null,
   "id": "8bfc50e7",
   "metadata": {},
   "outputs": [
    {
     "name": "stdout",
     "output_type": "stream",
     "text": [
      "Tabla 'airports' → Columnas: ['airport_id', 'airport_seq_id', 'city_market_id', 'code', 'city_name', 'state_abr', 'state_fips', 'state_name', 'wac']\n",
      "Tabla 'airlines' → Columnas: ['airline_id', 'unique_carrier']\n",
      "Tabla 'flights' → Columnas: ['flight_id', 'fl_date', 'op_unique_carrier', 'op_carrier_airline_id', 'op_carrier', 'tail_num', 'op_carrier_fl_num', 'origin_airport_id', 'dest_airport_id', 'crs_dep_time', 'dep_time', 'dep_delay', 'wheels_off', 'wheels_on', 'crs_arr_time', 'arr_time', 'arr_delay', 'cancelled', 'diverted', 'air_time', 'distance', 'flights']\n"
     ]
    }
   ],
   "source": [
    "from database import engine\n",
    "import dask as pd\n",
    "# Leer columnas de tablas\n",
    "tables = [\"airports\", \"airlines\", \"flights\"]\n",
    "\n",
    "for table in tables:\n",
    "    with engine.connect() as conn:\n",
    "        df = pd.read_sql(f\"SELECT * FROM {table} LIMIT 0\", conn)\n",
    "    print(f\"Tabla '{table}' → Columnas: {list(df.columns)}\")"
   ]
  },
  {
   "cell_type": "code",
   "execution_count": 23,
   "id": "40d8d31c",
   "metadata": {},
   "outputs": [
    {
     "name": "stdout",
     "output_type": "stream",
     "text": [
      "63294\n"
     ]
    }
   ],
   "source": [
    "import pandas as pd\n",
    "from sqlalchemy import create_engine\n",
    "from datetime import datetime, timedelta\n",
    "from database import db_url1\n",
    "# Conexión a la base de datos\n",
    "engine = create_engine(db_url1)\n",
    "\n",
    "max_date_query = \"SELECT MAX(fl_date) FROM flights\"\n",
    "max_date = pd.read_sql(max_date_query, engine).iloc[0, 0]\n",
    "\n",
    "# Paso 2: Calcular fecha 3 meses antes de la fecha máxima encontrada\n",
    "three_months_ago = max_date - pd.Timedelta(days=365)\n",
    "\n",
    "# Consulta SQL\n",
    "query = f\"\"\"\n",
    "SELECT op_carrier_airline_id, tail_num, origin_airport_id, dest_airport_id, distance, flights, arr_delay\n",
    "FROM flights\n",
    "WHERE fl_date >= '{three_months_ago}'\n",
    "AND arr_delay IS NOT NULL\n",
    "\"\"\"\n",
    "\n",
    "flights_df = pd.read_sql(query, engine)\n",
    "print(len(flights_df))"
   ]
  },
  {
   "cell_type": "code",
   "execution_count": 30,
   "id": "a025e22f",
   "metadata": {},
   "outputs": [
    {
     "name": "stdout",
     "output_type": "stream",
     "text": [
      "63294\n"
     ]
    }
   ],
   "source": [
    "flights_df1=flights_df.dropna(inplace=True) \n",
    "print(len(flights_df))\n",
    "# Variables\n",
    "X = flights_df[[\"op_carrier_airline_id\", \"tail_num\", \"origin_airport_id\", \"dest_airport_id\", \"distance\", \"flights\"]]\n",
    "y = flights_df[[\"arr_delay\"]]\n",
    "\n",
    "# Separar train/test\n",
    "from sklearn.model_selection import train_test_split\n",
    "X_train, X_test, y_train, y_test = train_test_split(X, y, test_size=0.2, random_state=42)\n",
    "\n",
    "# Columnas categóricas (puedes ajustar según tu contexto)\n",
    "cat_features = [\"op_carrier_airline_id\", \"tail_num\", \"origin_airport_id\", \"dest_airport_id\"]\n",
    "\n",
    "# CatBoost Pools\n",
    "from catboost import Pool\n",
    "train_pool = Pool(data=X_train, label=y_train, cat_features=cat_features)\n",
    "test_pool = Pool(data=X_test, label=y_test, cat_features=cat_features)\n"
   ]
  },
  {
   "cell_type": "code",
   "execution_count": 31,
   "id": "00c928f9",
   "metadata": {},
   "outputs": [
    {
     "name": "stdout",
     "output_type": "stream",
     "text": [
      "0:\tlearn: 26.4586616\ttest: 26.9604641\tbest: 26.9604641 (0)\ttotal: 84.6ms\tremaining: 1m 24s\n",
      "100:\tlearn: 25.9951438\ttest: 26.6854626\tbest: 26.6238623 (54)\ttotal: 2.24s\tremaining: 19.9s\n",
      "Stopped by overfitting detector  (50 iterations wait)\n",
      "\n",
      "bestTest = 26.62386233\n",
      "bestIteration = 54\n",
      "\n",
      "Shrink model to first 55 iterations.\n",
      "MAE en test: 26.62 minutos\n"
     ]
    }
   ],
   "source": [
    "from catboost import CatBoostRegressor\n",
    "from sklearn.metrics import mean_absolute_error\n",
    "\n",
    "model = CatBoostRegressor(\n",
    "    iterations=1000,\n",
    "    learning_rate=0.1,\n",
    "    depth=6,\n",
    "    eval_metric='MAE',\n",
    "    random_seed=42,\n",
    "    verbose=100\n",
    ")\n",
    "\n",
    "model.fit(train_pool, eval_set=test_pool, early_stopping_rounds=50)\n",
    "\n",
    "# Predicción y evaluación\n",
    "preds = model.predict(X_test)\n",
    "mae = mean_absolute_error(y_test, preds)\n",
    "print(f\"MAE en test: {mae:.2f} minutos\")\n"
   ]
  },
  {
   "cell_type": "code",
   "execution_count": 43,
   "id": "507cee18",
   "metadata": {},
   "outputs": [],
   "source": [
    "# Guardar en un archivo .cbm (CatBoost Model)\n",
    "model.save_model(\"modelo_retrasos.cbm\")\n"
   ]
  },
  {
   "cell_type": "code",
   "execution_count": 36,
   "id": "1bf3a184",
   "metadata": {},
   "outputs": [
    {
     "name": "stdout",
     "output_type": "stream",
     "text": [
      "       Valor Real   Estimado\n",
      "50815       -12.0   7.140302\n",
      "60627         8.0  11.594721\n",
      "59881         5.0   5.871659\n",
      "55205       -19.0   5.494386\n",
      "8909        143.0   8.400328\n",
      "27214       -14.0   0.480191\n",
      "49803        11.0   8.587097\n",
      "16948       -37.0  -6.000475\n",
      "60201        -2.0  10.340088\n",
      "42123        -5.0   7.451089\n"
     ]
    }
   ],
   "source": [
    "import pandas as pd\n",
    "\n",
    "# Suponiendo que ya tienes:\n",
    "# y_test: los valores reales (puede ser un DataFrame o Serie)\n",
    "# preds: las predicciones (array o lista)\n",
    "\n",
    "# Si y_test es DataFrame, conviértelo a Serie para facilidad\n",
    "y_test_series = y_test.squeeze()  # quita dimensión si es DataFrame\n",
    "\n",
    "# Crear DataFrame con reales y predichos\n",
    "resultados_df = pd.DataFrame({\n",
    "    \"Valor Real\": y_test_series,\n",
    "    \"Estimado\": preds\n",
    "})\n",
    "\n",
    "# Mostrar las primeras filas\n",
    "print(resultados_df.head(10))\n"
   ]
  },
  {
   "cell_type": "code",
   "execution_count": 38,
   "id": "5a4e0fa3",
   "metadata": {},
   "outputs": [
    {
     "name": "stdout",
     "output_type": "stream",
     "text": [
      "MAE (Error absoluto medio): 26.62 minutos\n",
      "RMSE (Raíz del error cuadrático medio): 62.12 minutos\n",
      "R² (Coeficiente de determinación): 0.01\n"
     ]
    }
   ],
   "source": [
    "from sklearn.metrics import mean_absolute_error, mean_squared_error, r2_score\n",
    "import numpy as np\n",
    "\n",
    "mae = mean_absolute_error(y_test, preds)\n",
    "rmse = np.sqrt(mean_squared_error(y_test, preds))\n",
    "r2 = r2_score(y_test, preds)\n",
    "\n",
    "print(f\"MAE (Error absoluto medio): {mae:.2f} minutos\")\n",
    "print(f\"RMSE (Raíz del error cuadrático medio): {rmse:.2f} minutos\")\n",
    "print(f\"R² (Coeficiente de determinación): {r2:.2f}\")\n"
   ]
  },
  {
   "cell_type": "code",
   "execution_count": 40,
   "id": "cfcc1a8e",
   "metadata": {},
   "outputs": [
    {
     "data": {
      "image/png": "[encoded data removed]",
      "text/plain": [
       "<Figure size 576x360 with 1 Axes>"
      ]
     },
     "metadata": {
      "needs_background": "light"
     },
     "output_type": "display_data"
    }
   ],
   "source": [
    "import seaborn as sns\n",
    "import matplotlib.pyplot as plt\n",
    "plt.figure(figsize=(8,5))\n",
    "sns.histplot(resultados_df[\"Residuo\"], bins=30, kde=True, color='orange')\n",
    "plt.title(\"Distribución de los residuos\")\n",
    "plt.xlabel(\"Residuo (Error)\")\n",
    "plt.ylabel(\"Frecuencia\")\n",
    "plt.axvline(0, color='red', linestyle='--')\n",
    "plt.show()\n"
   ]
  },
  {
   "cell_type": "code",
   "execution_count": 42,
   "id": "ab921a43",
   "metadata": {},
   "outputs": [
    {
     "name": "stdout",
     "output_type": "stream",
     "text": [
      "       Valor Real   Estimado     Residuo\n",
      "50815       -12.0   7.140302  -19.140302\n",
      "60627         8.0  11.594721   -3.594721\n",
      "59881         5.0   5.871659   -0.871659\n",
      "55205       -19.0   5.494386  -24.494386\n",
      "8909        143.0   8.400328  134.599672\n",
      "27214       -14.0   0.480191  -14.480191\n",
      "49803        11.0   8.587097    2.412903\n",
      "16948       -37.0  -6.000475  -30.999525\n",
      "60201        -2.0  10.340088  -12.340088\n",
      "42123        -5.0   7.451089  -12.451089\n"
     ]
    },
    {
     "data": {
      "image/png": "[encoded data removed]",
      "text/plain": [
       "<Figure size 576x432 with 1 Axes>"
      ]
     },
     "metadata": {
      "needs_background": "light"
     },
     "output_type": "display_data"
    }
   ],
   "source": [
    "import matplotlib.pyplot as plt\n",
    "import pandas as pd\n",
    "\n",
    "# Asegúrate que y_test y preds estén \"alineados\" y en formato compatible\n",
    "y_test_series = y_test.squeeze()  # Si y_test es DataFrame, conviértelo a Serie\n",
    "\n",
    "# Calcular residuos (error = real - predicho)\n",
    "residuos = y_test_series - preds\n",
    "\n",
    "# Crear DataFrame con valor real, estimado y residuo\n",
    "resultados_df = pd.DataFrame({\n",
    "    \"Valor Real\": y_test_series,\n",
    "    \"Estimado\": preds,\n",
    "    \"Residuo\": residuos\n",
    "})\n",
    "\n",
    "# Mostrar las primeras filas\n",
    "print(resultados_df.head(10))\n",
    "\n",
    "plt.figure(figsize=(8,6))\n",
    "plt.scatter(resultados_df[\"Estimado\"], resultados_df[\"Residuo\"], alpha=0.5)\n",
    "plt.axhline(0, color='red', linestyle='--')\n",
    "plt.xlabel(\"Retraso predicho (minutos)\")\n",
    "plt.ylabel(\"Residuo (Error: real - predicho)\")\n",
    "plt.title(\"Gráfico de residuos\")\n",
    "plt.show()\n"
   ]
  },
  {
   "cell_type": "code",
   "execution_count": null,
   "id": "e67dfb2c",
   "metadata": {},
   "outputs": [],
   "source": [
    "X=flights_df[[\"op_carrier_airline_id\",\"tail_num\",\"origin_airport_id\",\"dest_airport_id\",\"distance\",\"flights\"]]\n",
    "y=flights_df[[\"arr_delay\"]]\n",
    "\n"
   ]
  },
  {
   "cell_type": "markdown",
   "id": "b7e10d8f",
   "metadata": {},
   "source": [
    "Cargar modelo"
   ]
  },
  {
   "cell_type": "code",
   "execution_count": null,
   "id": "658141fc",
   "metadata": {},
   "outputs": [],
   "source": [
    "from catboost import CatBoostRegressor\n",
    "\n",
    "# Crear instancia sin entrenar\n",
    "modelo_cargado = CatBoostRegressor()\n",
    "\n",
    "# Cargar los pesos\n",
    "modelo_cargado.load_model(\"modelo_retrasos.cbm\")\n"
   ]
  }
 ],
 "metadata": {
  "kernelspec": {
   "display_name": "Documentos",
   "language": "python",
   "name": "python3"
  },
  "language_info": {
   "codemirror_mode": {
    "name": "ipython",
    "version": 3
   },
   "file_extension": ".py",
   "mimetype": "text/x-python",
   "name": "python",
   "nbconvert_exporter": "python",
   "pygments_lexer": "ipython3",
   "version": "3.12.3"
  }
 },
 "nbformat": 4,
 "nbformat_minor": 5
}
