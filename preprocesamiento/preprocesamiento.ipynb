{
 "cells": [
  {
   "cell_type": "code",
   "execution_count": 1,
   "metadata": {},
   "outputs": [],
   "source": [
    "import psycopg2\n",
    "import pandas as pd\n",
    "from datetime import datetime, time"
   ]
  },
  {
   "cell_type": "code",
   "execution_count": 3,
   "metadata": {},
   "outputs": [],
   "source": [
    "# Conexión a la base de datos\n",
    "conn = psycopg2.connect(\n",
    "    dbname=\"fligth-database\",\n",
    "    user=\"postgres\",\n",
    "    password=\"Jennifer2004*\",\n",
    "    host=\"localhost\",\n",
    "    port=\"5432\"\n",
    ")\n",
    "\n",
    "# Crear un cursor para ejecutar consultas\n",
    "cur = conn.cursor()"
   ]
  },
  {
   "cell_type": "code",
   "execution_count": 4,
   "metadata": {},
   "outputs": [
    {
     "name": "stdout",
     "output_type": "stream",
     "text": [
      "   flight_id     fl_date op_unique_carrier  op_carrier_airline_id op_carrier  \\\n",
      "0          1  2019-12-01                9E                  20363         9E   \n",
      "1          2  2019-12-01                9E                  20363         9E   \n",
      "2          3  2019-12-01                DL                  19790         DL   \n",
      "3          4  2019-12-01                DL                  19790         DL   \n",
      "4          5  2019-12-01                DL                  19790         DL   \n",
      "\n",
      "  tail_num op_carrier_fl_num  origin_airport_id  dest_airport_id crs_dep_time  \\\n",
      "0   N293PQ              3406              10599            12953     16:46:00   \n",
      "1   N293PQ              3406              12953            10599     14:27:00   \n",
      "2   N349NW              2391              10397            13422     19:41:00   \n",
      "3   N901DE              1129              10397            10599     21:11:00   \n",
      "4   N903DE              2242              10599            10397     07:40:00   \n",
      "\n",
      "   dep_time  dep_delay wheels_off wheels_on crs_arr_time  arr_time  arr_delay  \\\n",
      "0  18:13:00       87.0   18:28:00  21:36:00     20:19:00  21:40:00       81.0   \n",
      "1  14:27:00        0.0   16:05:00  17:33:00     16:10:00  17:39:00       89.0   \n",
      "2  20:52:00       71.0   21:09:00  21:02:00     19:55:00  21:08:00       73.0   \n",
      "3  21:08:00       -3.0   21:22:00  20:50:00     21:05:00  20:54:00      -11.0   \n",
      "4  07:37:00       -3.0   07:52:00  09:23:00     09:48:00  09:30:00      -18.0   \n",
      "\n",
      "   cancelled  diverted  air_time  distance  flights  \n",
      "0       True      True     128.0     866.0      1.0  \n",
      "1       True      True     148.0     866.0      1.0  \n",
      "2       True      True      53.0     302.0      1.0  \n",
      "3       True      True      28.0     134.0      1.0  \n",
      "4       True      True      31.0     134.0      1.0  \n"
     ]
    }
   ],
   "source": [
    "cur.execute(\"SELECT * FROM flights; \")\n",
    "resultados = cur.fetchall()\n",
    "columnas = [desc[0] for desc in cur.description]\n",
    "df = pd.DataFrame(resultados, columns=columnas)\n",
    "pd.options.display.max_columns = None\n",
    "print(df.head())"
   ]
  },
  {
   "cell_type": "code",
   "execution_count": 5,
   "metadata": {},
   "outputs": [
    {
     "name": "stdout",
     "output_type": "stream",
     "text": [
      "           flight_id  op_carrier_airline_id  origin_airport_id  \\\n",
      "count  338920.000000          338920.000000      338920.000000   \n",
      "mean   169460.500000           20158.708138       11515.058326   \n",
      "std     97837.920954             352.623230        1113.245546   \n",
      "min         1.000000           19393.000000       10397.000000   \n",
      "25%     84730.750000           19790.000000       10599.000000   \n",
      "50%    169460.500000           20363.000000       11278.000000   \n",
      "75%    254190.250000           20397.000000       12217.000000   \n",
      "max    338920.000000           20452.000000       15919.000000   \n",
      "\n",
      "       dest_airport_id      dep_delay      arr_delay       air_time  \\\n",
      "count    338920.000000  331712.000000  330832.000000  330832.000000   \n",
      "mean      11515.495312       9.372118       4.745678      72.924276   \n",
      "std        1114.244841      49.637737      51.279230      33.408108   \n",
      "min       10397.000000     -52.000000     -77.000000      14.000000   \n",
      "25%       10599.000000      -6.000000     -15.000000      44.000000   \n",
      "50%       11278.000000      -3.000000      -7.000000      75.000000   \n",
      "75%       12217.000000       4.000000       6.000000      93.000000   \n",
      "max       15919.000000    2573.000000    2577.000000     276.000000   \n",
      "\n",
      "            distance   flights  \n",
      "count  338920.000000  338920.0  \n",
      "mean      472.870335       1.0  \n",
      "std       262.763489       0.0  \n",
      "min       134.000000       1.0  \n",
      "25%       302.000000       1.0  \n",
      "50%       539.000000       1.0  \n",
      "75%       603.000000       1.0  \n",
      "max      1815.000000       1.0  \n"
     ]
    }
   ],
   "source": [
    "print(df.describe())"
   ]
  },
  {
   "cell_type": "code",
   "execution_count": 6,
   "metadata": {},
   "outputs": [
    {
     "name": "stdout",
     "output_type": "stream",
     "text": [
      "<class 'pandas.core.frame.DataFrame'>\n",
      "RangeIndex: 338920 entries, 0 to 338919\n",
      "Data columns (total 22 columns):\n",
      " #   Column                 Non-Null Count   Dtype  \n",
      "---  ------                 --------------   -----  \n",
      " 0   flight_id              338920 non-null  int64  \n",
      " 1   fl_date                338920 non-null  object \n",
      " 2   op_unique_carrier      338920 non-null  object \n",
      " 3   op_carrier_airline_id  338920 non-null  int64  \n",
      " 4   op_carrier             338920 non-null  object \n",
      " 5   tail_num               337122 non-null  object \n",
      " 6   op_carrier_fl_num      338920 non-null  object \n",
      " 7   origin_airport_id      338920 non-null  int64  \n",
      " 8   dest_airport_id        338920 non-null  int64  \n",
      " 9   crs_dep_time           338920 non-null  object \n",
      " 10  dep_time               331714 non-null  object \n",
      " 11  dep_delay              331712 non-null  float64\n",
      " 12  wheels_off             331586 non-null  object \n",
      " 13  wheels_on              331535 non-null  object \n",
      " 14  crs_arr_time           338920 non-null  object \n",
      " 15  arr_time               331535 non-null  object \n",
      " 16  arr_delay              330832 non-null  float64\n",
      " 17  cancelled              338920 non-null  bool   \n",
      " 18  diverted               338920 non-null  bool   \n",
      " 19  air_time               330832 non-null  float64\n",
      " 20  distance               338920 non-null  float64\n",
      " 21  flights                338920 non-null  float64\n",
      "dtypes: bool(2), float64(5), int64(4), object(11)\n",
      "memory usage: 52.4+ MB\n"
     ]
    }
   ],
   "source": [
    "df.info()"
   ]
  },
  {
   "cell_type": "code",
   "execution_count": 10,
   "metadata": {},
   "outputs": [],
   "source": [
    "conn.rollback()  # Reinicia la transacción\n",
    "cur.execute(\"SELECT * FROM airlines;\")  # Ahora debería funcionar"
   ]
  },
  {
   "cell_type": "code",
   "execution_count": 11,
   "metadata": {},
   "outputs": [
    {
     "name": "stdout",
     "output_type": "stream",
     "text": [
      "   airline_id unique_carrier\n",
      "0       20363             9E\n",
      "1       19790             DL\n",
      "2       20366             EV\n",
      "3       20398             MQ\n",
      "4       20397             OH\n"
     ]
    }
   ],
   "source": [
    "cur.execute(\"SELECT * FROM airlines ;\")\n",
    "resultados = cur.fetchall()\n",
    "columnas = [desc[0] for desc in cur.description]\n",
    "df = pd.DataFrame(resultados, columns=columnas)\n",
    "pd.options.display.max_columns = None\n",
    "print(df.head())"
   ]
  },
  {
   "cell_type": "code",
   "execution_count": 12,
   "metadata": {},
   "outputs": [
    {
     "name": "stdout",
     "output_type": "stream",
     "text": [
      "         airline_id\n",
      "count     13.000000\n",
      "mean   20190.384615\n",
      "std      337.193698\n",
      "min    19393.000000\n",
      "25%    19977.000000\n",
      "50%    20366.000000\n",
      "75%    20398.000000\n",
      "max    20452.000000\n",
      "<class 'pandas.core.frame.DataFrame'>\n",
      "RangeIndex: 13 entries, 0 to 12\n",
      "Data columns (total 2 columns):\n",
      " #   Column          Non-Null Count  Dtype \n",
      "---  ------          --------------  ----- \n",
      " 0   airline_id      13 non-null     int64 \n",
      " 1   unique_carrier  13 non-null     object\n",
      "dtypes: int64(1), object(1)\n",
      "memory usage: 340.0+ bytes\n"
     ]
    }
   ],
   "source": [
    "print(df.describe())\n",
    "import pandas as pd\n",
    "\n",
    "# Suponiendo que df es tu DataFrame\n",
    "#df_limpio = df.dropna(subset=['airport_id'])\n",
    "df.info()"
   ]
  },
  {
   "cell_type": "code",
   "execution_count": null,
   "metadata": {},
   "outputs": [
    {
     "name": "stdout",
     "output_type": "stream",
     "text": [
      "   airport_id  airport_seq_id  city_market_id code       city_name state_abr  \\\n",
      "0       10599         1059904           30599  BHM  Birmingham, AL        AL   \n",
      "1       12953         1295304           31703  LGA    New York, NY        NY   \n",
      "2       10397         1039707           30397  ATL     Atlanta, GA        GA   \n",
      "3       13422         1342202           30562  MOB      Mobile, AL        AL   \n",
      "4       12217         1221702           30255  HSV  Huntsville, AL        AL   \n",
      "\n",
      "  state_fips state_name  wac  \n",
      "0         01    Alabama   51  \n",
      "1         36   New York   22  \n",
      "2         13    Georgia   34  \n",
      "3         01    Alabama   51  \n",
      "4         01    Alabama   51  \n"
     ]
    }
   ],
   "source": [
    "\n",
    "cur.execute(\"SELECT * FROM airports ;\")\n",
    "resultados = cur.fetchall()\n",
    "columnas = [desc[0] for desc in cur.description]\n",
    "df = pd.DataFrame(resultados, columns=columnas)\n",
    "pd.options.display.max_columns = None\n",
    "print(df.head())"
   ]
  },
  {
   "cell_type": "code",
   "execution_count": 14,
   "metadata": {},
   "outputs": [
    {
     "name": "stdout",
     "output_type": "stream",
     "text": [
      "         airport_id  airport_seq_id  city_market_id        wac\n",
      "count     46.000000    4.600000e+01       46.000000  46.000000\n",
      "mean   12480.543478    1.248058e+06    31505.130435  54.869565\n",
      "std     1447.942766    1.447944e+05     1075.286600  18.976721\n",
      "min    10397.000000    1.039707e+06    30194.000000  22.000000\n",
      "25%    11263.750000    1.126379e+06    30715.000000  38.750000\n",
      "50%    12302.500000    1.230254e+06    31176.000000  51.000000\n",
      "75%    13402.000000    1.340203e+06    32211.000000  74.000000\n",
      "max    15919.000000    1.591905e+06    34100.000000  91.000000\n",
      "<class 'pandas.core.frame.DataFrame'>\n",
      "RangeIndex: 46 entries, 0 to 45\n",
      "Data columns (total 9 columns):\n",
      " #   Column          Non-Null Count  Dtype \n",
      "---  ------          --------------  ----- \n",
      " 0   airport_id      46 non-null     int64 \n",
      " 1   airport_seq_id  46 non-null     int64 \n",
      " 2   city_market_id  46 non-null     int64 \n",
      " 3   code            46 non-null     object\n",
      " 4   city_name       46 non-null     object\n",
      " 5   state_abr       46 non-null     object\n",
      " 6   state_fips      46 non-null     object\n",
      " 7   state_name      46 non-null     object\n",
      " 8   wac             46 non-null     int64 \n",
      "dtypes: int64(4), object(5)\n",
      "memory usage: 3.4+ KB\n"
     ]
    }
   ],
   "source": [
    "print(df.describe())\n",
    "import pandas as pd\n",
    "\n",
    "# Suponiendo que df es tu DataFrame\n",
    "#df_limpio = df.dropna(subset=['airport_id'])\n",
    "df.info()"
   ]
  },
  {
   "cell_type": "code",
   "execution_count": null,
   "metadata": {},
   "outputs": [],
   "source": []
  },
  {
   "cell_type": "code",
   "execution_count": null,
   "metadata": {},
   "outputs": [],
   "source": []
  },
  {
   "cell_type": "code",
   "execution_count": 26,
   "metadata": {},
   "outputs": [],
   "source": [
    "# Cerrar conexión\n",
    "cur.close()\n",
    "conn.close()"
   ]
  },
  {
   "cell_type": "code",
   "execution_count": null,
   "metadata": {},
   "outputs": [],
   "source": []
  }
 ],
 "metadata": {
  "kernelspec": {
   "display_name": "Documentos",
   "language": "python",
   "name": "python3"
  },
  "language_info": {
   "codemirror_mode": {
    "name": "ipython",
    "version": 3
   },
   "file_extension": ".py",
   "mimetype": "text/x-python",
   "name": "python",
   "nbconvert_exporter": "python",
   "pygments_lexer": "ipython3",
   "version": "3.12.3"
  }
 },
 "nbformat": 4,
 "nbformat_minor": 2
}
